{
  "nbformat": 4,
  "nbformat_minor": 0,
  "metadata": {
    "colab": {
      "provenance": []
    },
    "kernelspec": {
      "name": "python3",
      "display_name": "Python 3"
    },
    "language_info": {
      "name": "python"
    }
  },
  "cells": [
    {
      "cell_type": "code",
      "execution_count": null,
      "metadata": {
        "id": "h3HOyB5RecS4"
      },
      "outputs": [],
      "source": [
        "import pandas as pd"
      ]
    },
    {
      "cell_type": "code",
      "source": [
        "dados =  pd.read_excel(\"BRA2022betstats.xlsx\")\n",
        "dados"
      ],
      "metadata": {
        "id": "MPwYKsIzMTW5"
      },
      "execution_count": null,
      "outputs": []
    },
    {
      "cell_type": "code",
      "source": [
        "ResHPal = list(dados[\"Home\"] == \"Palmeiras\")\n",
        "dados.loc[ResHPal]"
      ],
      "metadata": {
        "id": "budmxySRQGKv"
      },
      "execution_count": null,
      "outputs": []
    },
    {
      "cell_type": "code",
      "source": [
        "ResAPal = list(dados[\"Away\"] == \"Palmeiras\")\n",
        "dados.loc[ResAPal]"
      ],
      "metadata": {
        "id": "dhcYlIUNQXje"
      },
      "execution_count": null,
      "outputs": []
    }
  ]
}